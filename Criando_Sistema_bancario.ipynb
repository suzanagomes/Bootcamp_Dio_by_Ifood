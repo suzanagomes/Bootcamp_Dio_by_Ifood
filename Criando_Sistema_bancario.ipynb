{
  "nbformat": 4,
  "nbformat_minor": 0,
  "metadata": {
    "colab": {
      "provenance": [],
      "authorship_tag": "ABX9TyMcT9LOEzaaxXvTfNu8uNKw",
      "include_colab_link": true
    },
    "kernelspec": {
      "name": "python3",
      "display_name": "Python 3"
    },
    "language_info": {
      "name": "python"
    }
  },
  "cells": [
    {
      "cell_type": "markdown",
      "metadata": {
        "id": "view-in-github",
        "colab_type": "text"
      },
      "source": [
        "<a href=\"https://colab.research.google.com/github/suzanagomes/Bootcamp_Dio_by_Ifood/blob/main/Criando_Sistema_bancario.ipynb\" target=\"_parent\"><img src=\"https://colab.research.google.com/assets/colab-badge.svg\" alt=\"Open In Colab\"/></a>"
      ]
    },
    {
      "cell_type": "markdown",
      "source": [
        "DESCRIÇÃO\n",
        "Neste projeto, você terá a oportunidade de criar um Sistema Bancário em Python. O objetivo é implementar três operações essenciais: depósito, saque e extrato. O sistema será desenvolvido para um banco que busca monetizar suas operações. Durante o desafio, você terá a chance de aplicar seus conhecimentos em programação Python e criar um sistema funcional que simule as operações bancárias. Prepare-se para aprimorar suas habilidades e demonstrar sua capacidade de desenvolver soluções práticas e eficientes.\n"
      ],
      "metadata": {
        "id": "HzOfpsgfJTJE"
      }
    },
    {
      "cell_type": "code",
      "source": [
        "import datetime\n",
        "\n",
        "class Banco:\n",
        "    def __init__(self):\n",
        "        self.saldo = 0\n",
        "        self.limite = 500\n",
        "        self.extratos_bancarios = {\n",
        "            \"Extrato\": [],\n",
        "            \"Extrato de Saques\": [],\n",
        "            \"Extrato de Depósito\": []\n",
        "        }\n",
        "        self.numeros_saques = 0\n",
        "        self.LIMITE_SAQUES = 3\n",
        "\n",
        "    def depositar(self, valor):\n",
        "        if valor > 0:\n",
        "            self.saldo += valor\n",
        "            data = datetime.datetime.now()\n",
        "            self.extratos_bancarios[\"Extrato de Depósito\"].append(f\"Data: {str(data)} - Depósito: R$ {valor:.2f}\")\n",
        "            self.extratos_bancarios[\"Extrato\"].append(f\"Data: {str(data)} - Depósito: R$ {valor:.2f}\")\n",
        "            return True\n",
        "        else:\n",
        "            print(\"Depositar acima de R$ 0\")\n",
        "            return False\n",
        "\n",
        "    def sacar(self, valor):\n",
        "        if self.numeros_saques < self.LIMITE_SAQUES:\n",
        "            if valor > 0:\n",
        "                if valor <= self.limite and valor <= self.saldo:\n",
        "                    data = datetime.datetime.now()\n",
        "                    self.extratos_bancarios[\"Extrato de Saques\"].append(f\"Data: {str(data)} - Saque: R$ {valor:.2f}\")\n",
        "                    self.extratos_bancarios[\"Extrato\"].append(f\"Data: {str(data)} - Saque: R$ {valor:.2f}\")\n",
        "                    print(\"Saque realizado com sucesso\")\n",
        "                    self.numeros_saques += 1\n",
        "                    return True\n",
        "                else:\n",
        "                    print(f\"O limite de saque é de {self.limite:.2f}\")\n",
        "                    return False\n",
        "            else:\n",
        "                print(\"Você deve informar um valor de saque válido!\")\n",
        "                return False\n",
        "        else:\n",
        "            print(\"Você não pode efetuar o saque, você excedeu o limite diário de 3 saques\")\n",
        "            return False\n",
        "\n",
        "    def consultar_extrato(self, tipo_extrato):\n",
        "        for extrato in self.extratos_bancarios[tipo_extrato]:\n",
        "            print(extrato)\n",
        "\n",
        "\n",
        "def main():\n",
        "    banco = Banco()\n",
        "\n",
        "    menu = \"\"\"\n",
        "    [d] Depositar\n",
        "    [s] Sacar\n",
        "    [e] Extrato\n",
        "    [q] Sair\n",
        "\n",
        "    => \"\"\"\n",
        "\n",
        "    while True:\n",
        "        opcao = input(menu)\n",
        "\n",
        "        if opcao.lower() == \"d\":\n",
        "            valor_deposito = float(input(\"Valor de depósito: R$ \"))\n",
        "            banco.depositar(valor_deposito)\n",
        "\n",
        "        elif opcao.lower() == \"s\":\n",
        "            valor_saque = float(input(\"Valor de saque: R$ \"))\n",
        "            banco.sacar(valor_saque)\n",
        "\n",
        "        elif opcao.lower() == \"e\":\n",
        "            while True:\n",
        "                opcao_de_extrato = int(input(\"\"\"\n",
        "                [1] Extrato\n",
        "                [2] Extrato de Saques\n",
        "                [3] Extrato de Depósitos\n",
        "                [4] Sair\n",
        "                \"\"\"))\n",
        "\n",
        "                if opcao_de_extrato == 1:\n",
        "                    banco.consultar_extrato(\"Extrato\")\n",
        "\n",
        "                if opcao_de_extrato == 2:\n",
        "                    banco.consultar_extrato(\"Extrato de Saques\")\n",
        "\n",
        "                if opcao_de_extrato == 3:\n",
        "                    banco.consultar_extrato(\"Extrato de Depósito\")\n",
        "\n",
        "                if opcao_de_extrato == 4:\n",
        "                    break\n",
        "\n",
        "        elif opcao.lower() == \"q\":\n",
        "            print(\"Saindo...\")\n",
        "            break\n",
        "\n",
        "        else:\n",
        "            print(\"Operação inválida\")\n",
        "\n",
        "if __name__ == \"__main__\":\n",
        "    main()"
      ],
      "metadata": {
        "colab": {
          "base_uri": "https://localhost:8080/"
        },
        "id": "E-LbRGBTJUpn",
        "outputId": "ab302800-7cfa-4398-898d-fa034ca4239b"
      },
      "execution_count": 2,
      "outputs": [
        {
          "output_type": "stream",
          "name": "stdout",
          "text": [
            "\n",
            "    [d] Depositar\n",
            "    [s] Sacar\n",
            "    [e] Extrato\n",
            "    [q] Sair\n",
            "\n",
            "    => q\n",
            "Saindo...\n"
          ]
        }
      ]
    }
  ]
}